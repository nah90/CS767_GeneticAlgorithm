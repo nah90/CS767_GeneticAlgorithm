{
  "nbformat": 4,
  "nbformat_minor": 0,
  "metadata": {
    "colab": {
      "name": "CS767_hw5_Horak.ipynb",
      "provenance": [],
      "collapsed_sections": [],
      "authorship_tag": "ABX9TyPSaZNk5v9Y2LdOFVXOpclI",
      "include_colab_link": true
    },
    "kernelspec": {
      "name": "python3",
      "display_name": "Python 3"
    },
    "language_info": {
      "name": "python"
    }
  },
  "cells": [
    {
      "cell_type": "markdown",
      "metadata": {
        "id": "view-in-github",
        "colab_type": "text"
      },
      "source": [
        "<a href=\"https://colab.research.google.com/github/nah90/CS767_GeneticAlgorithm/blob/main/CS767_hw5_Horak.ipynb\" target=\"_parent\"><img src=\"https://colab.research.google.com/assets/colab-badge.svg\" alt=\"Open In Colab\"/></a>"
      ]
    },
    {
      "cell_type": "markdown",
      "metadata": {
        "id": "ktIz2T7Rrzah"
      },
      "source": [
        "#Assignment 5- Genetic Algorithms (GAs)"
      ]
    },
    {
      "cell_type": "code",
      "metadata": {
        "id": "oIb9bKBDrQkD"
      },
      "source": [
        "#INTENT: Import packages and setup\n",
        "\n",
        "import pandas as pd\n",
        "import numpy as np\n",
        "import matplotlib.pyplot as plt\n",
        "import copy\n",
        "import heapq\n",
        "import random\n",
        "import operator\n",
        "from statistics import mean\n",
        "from scipy.spatial import distance\n",
        "\n",
        "#Boston 0, London 1, Mumbai 2, Shanghai 3\n",
        "CITY_DICT = {0: 'Boston', 1: 'London', 2: 'Mumbai', 3: 'Shanghai'} #Set up dictionary representing destinations\n",
        "\n",
        "tsp_matrix = np.asarray( #Create TSP adjacency matrix\n",
        "    [\n",
        "        [0.00, 3.0, 7.6, 7.8],\n",
        "        [3.0, 0.00, 4.5, 5.7],\n",
        "        [7.6, 4.5, 0.00, 3.1],\n",
        "        [7.8, 5.7, 3.1, 0.00],\n",
        "    ]\n",
        ")\n",
        "\n",
        "parent_one=[0,2,2,1] #Define parent one according to assignment\n",
        "parent_two=[0,1,2,1] #Define parent two according to assignment\n"
      ],
      "execution_count": null,
      "outputs": []
    },
    {
      "cell_type": "code",
      "metadata": {
        "id": "QQLBpxSmsVzy"
      },
      "source": [
        "#INTENT: Define 'evaluate' and 'dest_route' functions\n",
        "\n",
        "def evaluate(list,matrix):\n",
        "  '''Evaluate the distance of a traveling salesman problem route given a chromosome list\n",
        "  and distance matrix\n",
        "\n",
        "  Args:\n",
        "    list(list): List representing travelign salesman problem route\n",
        "    matrix(np.array): Distance matrix\n",
        "  \n",
        "  Returns:\n",
        "    distance(float): Distance of input route per traveling salesman problem rules\n",
        "  '''\n",
        "  distance=0 #Set distance variable\n",
        "  current_position=list[0] #Set current position to starting location\n",
        "  distance_matrix=copy.copy(matrix) #Create a copy of the distance matrix\n",
        "  for i in range(len(list)-1): #Loop through each interval (0-1, 1-2, 2-3)\n",
        "    distance_array=distance_matrix[:,current_position] #Set distance array\n",
        "    distance_matrix[current_position,:]=np.inf #Invalidate locations already visited \n",
        "    distance+=heapq.nsmallest(list[i+1],distance_array)[-1] #Add distance\n",
        "    current_position=heapq.nsmallest(list[i+1], range(len(distance_array)), #Shift current position\n",
        "                                     key=distance_array.__getitem__)[-1]\n",
        "  distance+=matrix[current_position,list[0]] #After loop, go back to starting point\n",
        "  distance=round(distance,1) #Round to 1 decimal place\n",
        "  return distance #Return distance\n",
        "\n",
        "def dest_route(list,matrix, dest_dict):\n",
        "  '''State route taken on traveling salesman route given a chromosome list, distance matrix,\n",
        "  and destination dictionary\n",
        "  \n",
        "  Args:\n",
        "    list(list): List representing travelign salesman problem route\n",
        "    matrix(np.array): Distance matrix\n",
        "    dest_dict(dict): Dictionary with integer representation as keys and destinations as values\n",
        "\n",
        "  Returns:\n",
        "    route_list(list): List of destinations along route\n",
        "  '''\n",
        "  visited=[] #Create blank list visited\n",
        "  current_position=list[0] #Set current position to starting location\n",
        "  visited.append(current_position) #Add initial position to visited list\n",
        "  distance_matrix=copy.copy(matrix) #Create a copy of the distance matrix\n",
        "  for i in range(len(list)-1): #Loop through each interval (0-1, 1-2, 2-3)\n",
        "    distance_array=distance_matrix[:,current_position] #Set distance array\n",
        "    distance_matrix[current_position,:]=np.inf #Invalidate locations already visited \n",
        "    current_position=heapq.nsmallest(list[i+1], range(len(distance_array)), #Shift current position\n",
        "                                     key=distance_array.__getitem__)[-1]\n",
        "    visited.append(current_position) #Add current position to visited list\n",
        "  visited.append(list[0]) #After loop, add starting point to visited list\n",
        "  route_list=[] #Create blank list route_list\n",
        "  for j in range(len(visited)-1): #Loop through visited list\n",
        "    route_list.append(dest_dict.get(visited[j])) #Get value from key route_dict\n",
        "  route_list.append(dest_dict.get(list[0])) #Add starting dest to end of route list\n",
        "  return route_list #Return route list"
      ],
      "execution_count": null,
      "outputs": []
    },
    {
      "cell_type": "code",
      "metadata": {
        "colab": {
          "base_uri": "https://localhost:8080/"
        },
        "id": "Eoi0T-4pCZi9",
        "outputId": "6d0b1ead-9c97-46e6-8ef1-dcf5efff0bd2"
      },
      "source": [
        "#Distance adjacency matrix\n",
        "print(tsp_matrix)"
      ],
      "execution_count": null,
      "outputs": [
        {
          "output_type": "stream",
          "name": "stdout",
          "text": [
            "[[0.  3.  7.6 7.8]\n",
            " [3.  0.  4.5 5.7]\n",
            " [7.6 4.5 0.  3.1]\n",
            " [7.8 5.7 3.1 0. ]]\n"
          ]
        }
      ]
    },
    {
      "cell_type": "code",
      "metadata": {
        "colab": {
          "base_uri": "https://localhost:8080/"
        },
        "id": "yVbPZNYhNXQp",
        "outputId": "7fb8d527-be8f-46f4-82f2-13beff4c569a"
      },
      "source": [
        "#List of cities in route for Section 2\n",
        "dest_route([0,1,1,1], tsp_matrix, CITY_DICT)"
      ],
      "execution_count": null,
      "outputs": [
        {
          "output_type": "execute_result",
          "data": {
            "text/plain": [
              "['Boston', 'London', 'Mumbai', 'Shanghai', 'Boston']"
            ]
          },
          "metadata": {},
          "execution_count": 257
        }
      ]
    },
    {
      "cell_type": "code",
      "metadata": {
        "id": "4q8DYCPAN8d8"
      },
      "source": [
        "#INTENT: Create crossover function\n",
        "\n",
        "def crossover(parent_one, parent_two, crossover_point):\n",
        "  '''Create child of two parents with one point crossover given crossover point\n",
        "\n",
        "  Args:\n",
        "    parent_one(list): Chromosome list of parent one\n",
        "    parent_two(list): Chromosome list of parent two\n",
        "    crossover_point(int): Crossover point\n",
        "\n",
        "  Returns:\n",
        "    child(list): Chromosome list of resulting child\n",
        "  '''\n",
        "  child=[] #Create child\n",
        "  child=parent_one[0:crossover_point+1]+parent_two[crossover_point+1:] #Assign genes to child\n",
        "  return child #Return child"
      ],
      "execution_count": null,
      "outputs": []
    },
    {
      "cell_type": "code",
      "metadata": {
        "colab": {
          "base_uri": "https://localhost:8080/"
        },
        "id": "SUr2Ovy-OVey",
        "outputId": "9b1e841d-fdcd-4d0c-dcfa-e1ffaf607371"
      },
      "source": [
        "#Crossover parent_one and parent_two given crossover_point 1\n",
        "crossover(parent_one, parent_two, 1)"
      ],
      "execution_count": null,
      "outputs": [
        {
          "output_type": "execute_result",
          "data": {
            "text/plain": [
              "[0, 2, 2, 1]"
            ]
          },
          "metadata": {},
          "execution_count": 259
        }
      ]
    },
    {
      "cell_type": "code",
      "metadata": {
        "id": "uWTzFcn-WBIQ"
      },
      "source": [
        "def mutate(chromosome, mutation_rate):\n",
        "  '''Apply possible mutation with a percentage chance by mutation_rate for chromosome\n",
        "\n",
        "  Args:\n",
        "    chromosome(list): List representing chromosome to possibly mutate\n",
        "    mutation_rate(float): Float of percentage a mutation occurs at a given gene per possible mutation\n",
        "\n",
        "  Returns:\n",
        "    chromosome(lis): List of chromosome with any mutations\n",
        "  '''\n",
        "  for i in range(len(chromosome)-1): #Loop through all mutable elements in child\n",
        "    for j in range(len(chromosome)-i-1): #Loop through possible mutations\n",
        "      if mutation_rate > random.random(): #If mutation fires\n",
        "        if i==0: #Seperate initial index from rest\n",
        "          current_value=chromosome[i] #Set current value\n",
        "          value_list=list(range(0,len(chromosome))) #Create value list\n",
        "          value_list.pop(current_value) #Remove current value from value list so it can't reappear in a mutation\n",
        "          chromosome[i]=random.choice(value_list) #Set chromosome value randomly\n",
        "        else:\n",
        "          current_value=chromosome[i] #Set current value \n",
        "          value_list=list(range(1,len(chromosome)-i+1)) #Create value list\n",
        "          value_list.pop(current_value-1) #Remove current value from value list so it can't reappear in a mutation\n",
        "          chromosome[i]=random.choice(value_list) #Set chromosome value randomly\n",
        "        break #If a mutation happens, disallow any further mutations on that element\n",
        "  return chromosome #Return chromosome"
      ],
      "execution_count": null,
      "outputs": []
    },
    {
      "cell_type": "code",
      "metadata": {
        "colab": {
          "base_uri": "https://localhost:8080/"
        },
        "id": "Y7rvcB2HWSLA",
        "outputId": "a5d8d9ee-3c45-4d34-c4d6-1b24db0ecc19"
      },
      "source": [
        "parent_one=[0,2,2,1] #Define parent one according to assignment\n",
        "parent_two=[0,1,2,1] #Define parent two according to assignment\n",
        "MUTATION_RATE=0.05 #Set mutation rate\n",
        "\n",
        "child=crossover(parent_one, parent_two, 1) #Create a child from parent_one and parent_two given crossover point 1\n",
        "\n",
        "mutate(child, MUTATION_RATE) #Mutate child"
      ],
      "execution_count": null,
      "outputs": [
        {
          "output_type": "execute_result",
          "data": {
            "text/plain": [
              "[0, 2, 2, 1]"
            ]
          },
          "metadata": {},
          "execution_count": 261
        }
      ]
    },
    {
      "cell_type": "code",
      "metadata": {
        "colab": {
          "base_uri": "https://localhost:8080/"
        },
        "id": "HvpTHr7WBF6-",
        "outputId": "b09de3df-a61a-46da-ef8b-dc81766d3ea5"
      },
      "source": [
        "evaluate(parent_one,tsp_matrix) #Distance of route by parent_one"
      ],
      "execution_count": null,
      "outputs": [
        {
          "output_type": "execute_result",
          "data": {
            "text/plain": [
              "25.6"
            ]
          },
          "metadata": {},
          "execution_count": 262
        }
      ]
    },
    {
      "cell_type": "code",
      "metadata": {
        "colab": {
          "base_uri": "https://localhost:8080/"
        },
        "id": "HxzA23pstpBO",
        "outputId": "fa0524d9-a7b9-4362-d93f-422566609e3f"
      },
      "source": [
        "evaluate(parent_two,tsp_matrix) #Distance of route by parent_two"
      ],
      "execution_count": null,
      "outputs": [
        {
          "output_type": "execute_result",
          "data": {
            "text/plain": [
              "19.4"
            ]
          },
          "metadata": {},
          "execution_count": 263
        }
      ]
    },
    {
      "cell_type": "code",
      "metadata": {
        "colab": {
          "base_uri": "https://localhost:8080/"
        },
        "id": "ymBrCvTmG7s9",
        "outputId": "37365224-4a28-4989-a69c-c32080a532fc"
      },
      "source": [
        "dest_route(parent_one,tsp_matrix, CITY_DICT) #List of destinations in route for parent_one"
      ],
      "execution_count": null,
      "outputs": [
        {
          "output_type": "execute_result",
          "data": {
            "text/plain": [
              "['Boston', 'Mumbai', 'London', 'Shanghai', 'Boston']"
            ]
          },
          "metadata": {},
          "execution_count": 264
        }
      ]
    },
    {
      "cell_type": "code",
      "metadata": {
        "colab": {
          "base_uri": "https://localhost:8080/"
        },
        "id": "Yg6hlkcCKkll",
        "outputId": "e034f730-cdf6-41bf-945c-399087ed4b7c"
      },
      "source": [
        "dest_route(parent_two,tsp_matrix, CITY_DICT) #List of destinations in route for parent_two"
      ],
      "execution_count": null,
      "outputs": [
        {
          "output_type": "execute_result",
          "data": {
            "text/plain": [
              "['Boston', 'London', 'Shanghai', 'Mumbai', 'Boston']"
            ]
          },
          "metadata": {},
          "execution_count": 265
        }
      ]
    },
    {
      "cell_type": "code",
      "metadata": {
        "id": "EPd_YkxcId3P"
      },
      "source": [
        "#INTENT: Define functions necessary to execute genetic algorithm\n",
        "\n",
        "def create_random_routes(pop_size, dest_dict):\n",
        "  '''Creates random chromosomes representing possible routes given pop_size and dest_dict\n",
        "\n",
        "  Args:\n",
        "    pop_size(int): Integer of number of chromosomes the algorithm will evaluate\n",
        "    dest_dict(dict): Dictionary of route destinations\n",
        "  Returns\n",
        "    list_of_chromosomes(list): Returns list of list of chromosomes\n",
        "  '''\n",
        "  for i in range(pop_size): #Loop through pop_size\n",
        "    new_list=[] #Create blank list new_list\n",
        "    for j in range(len(dest_dict)): #Loop through length of dest_dict\n",
        "      if j == 0: #For first element of new_list\n",
        "        new_list.append(random.randint(0,len(dest_dict)-1)) #Add possible random value\n",
        "      else: #For all other elements of new_list\n",
        "        new_list.append(random.randint(1,len(dest_dict)-j)) #Add possible random value with decreasing upper bound by position in list\n",
        "    list_of_chromosomes.append(new_list) #Add new_list to list_of_chromosomes\n",
        "  return list_of_chromosomes #Return list of list\n",
        "\n",
        "def process(list_of_chromosomes, matrix, mutation_rate):\n",
        "  '''Process through the genetic algorithm given list of list of chromosomes, distance matrix, and mutation rate\n",
        "\n",
        "  Args:\n",
        "    list_of_chromosomes(list): List of list of chromosomes to process\n",
        "    matrix(np.array): Distance matrix of destinations\n",
        "    mutation_rate(float): Float of percentage a mutation occurs at a given gene per possible mutation\n",
        "  \n",
        "  Returns:\n",
        "    child_list(list): List of list of chromosomes created via replication and mutation\n",
        "  '''\n",
        "  eval_list=[] #Create blank list eval_list\n",
        "  for i in range(len(list_of_chromosomes)): #Loop through each list within list_of_chromosomes\n",
        "    eval_list.append(evaluate(list_of_chromosomes[i],matrix)) #Evaluate distance of each chromosome\n",
        "  eval_list=[number ** -2 for number in eval_list] #Raise all values in eval_list by -2\n",
        "  #Negative will give more weight to lower distances, square will amplify importance of fitness\n",
        "  list_of_mates=[] #Create blank list list_of_mates\n",
        "  for j in range(len(list_of_chromosomes)): #Loop through each chromosome\n",
        "    excluded_index=j #Mark current index\n",
        "    choices=list_of_chromosomes[:excluded_index]+list_of_chromosomes[excluded_index+1:] #Create list of possible choices\n",
        "    #Excluding the current index marked 'excluded_index'\n",
        "    weights=eval_list[:excluded_index]+eval_list[excluded_index+1:] #Create list of evaluated distances\n",
        "    #Excluding the current index marked 'excluded_index'\n",
        "    item=random.choices(choices,weights) #Select a mate randomly with prospective mates weighted by fitness\n",
        "    [item]=item #Remove layer of list \n",
        "    list_of_mates.append(item) #Add item to list_of_mates\n",
        "  child_list=[] #Create blank list child_list\n",
        "  for k in range(len(list_of_chromosomes)): #Loop through each chromosome\n",
        "    crossover_point=random.randint(0,len(list_of_chromosomes)-1) #Assign crossover point randomly\n",
        "    child=crossover(list_of_chromosomes[k], list_of_mates[k], crossover_point) #Create a child of each matched pair\n",
        "    child=mutate(child, mutation_rate) #Mutate the child\n",
        "    child_list.append(child) #Add child to child_list\n",
        "  return(child_list) #Return child_list\n",
        "\n",
        "def ga_performance(list_of_chromosomes,matrix):\n",
        "  '''Calculate performance of genetic algorithm given list_of_chromosomes and distance matrix\n",
        "\n",
        "  Args:\n",
        "    list_of_chromosomes(list): List of list of chromosomes to process\n",
        "    matrix(np.array): Distance matrix of destinations\n",
        "  Returns:\n",
        "    optimal_distance(float): Lowest (best) distance among all chromosomes\n",
        "    average_distance(float): Average distance among all chromosomes\n",
        "    percent_optimal(float): Percentage of chromosomes with optimal distance\n",
        "  '''\n",
        "  optimal=list_of_chromosomes[0] #Set optimal chromosome as first chromosome\n",
        "  eval_list=[] #Create blank list eval_list\n",
        "  for i in range(POP_SIZE): #Loop through population \n",
        "    if evaluate(list_of_chromosomes[i], matrix) < evaluate(optimal, matrix): #If distance of chromosome is better...\n",
        "      optimal=list_of_chromosomes[i] #Set new optimal\n",
        "    eval_list.append(evaluate(list_of_chromosomes[i],matrix)) #Evaluate distance of each chromosome\n",
        "  counter=0 #Set counter\n",
        "  for j in range(POP_SIZE): #Loop through population \n",
        "    if list_of_chromosomes[j]==optimal: #If distance is optimal...\n",
        "      counter+=1 #Add to counter\n",
        "  return evaluate(optimal,matrix), round(mean(eval_list),1), round((counter/POP_SIZE*100),1)\n",
        "  #Return optimal distance, average distance, and percentage optimal distance\n"
      ],
      "execution_count": null,
      "outputs": []
    },
    {
      "cell_type": "code",
      "metadata": {
        "colab": {
          "base_uri": "https://localhost:8080/",
          "height": 357
        },
        "id": "p5USNqsqDiWF",
        "outputId": "9e013327-d1b1-44dc-e25a-2e6fc7cc2c79"
      },
      "source": [
        "#INTENT: Execute genetic algorithm on given data\n",
        "\n",
        "#Boston 0, London 1, Mumbai 2, Shanghai 3\n",
        "CITY_DICT={0: 'Boston', 1: 'London', 2: 'Mumbai', 3: 'Shanghai'} #Set up dictionary representing destinations\n",
        "\n",
        "#Set constants\n",
        "POP_SIZE=32 #Set pop size\n",
        "RANDOM_STATE=90 #Set random state for reproducibility\n",
        "MUTATION_RATE=0.001 #Set mutation rate\n",
        "NUMBER_EPOCHS=2000 #Define number of epochs\n",
        "\n",
        "tsp_matrix = np.asarray( #Create TSP adjacency matrix\n",
        "    [\n",
        "        [0.00, 3.0, 7.6, 7.8],\n",
        "        [3.0, 0.00, 4.5, 5.7],\n",
        "        [7.6, 4.5, 0.00, 3.1],\n",
        "        [7.8, 5.7, 3.1, 0.00],\n",
        "    ]\n",
        ")\n",
        "\n",
        "#Set random state\n",
        "random.seed(RANDOM_STATE) #Set seed as RANDOM_STATE\n",
        "\n",
        "#Create chromosomes\n",
        "list_of_chromosomes=[] #Create blank list list_of_chromosomes\n",
        "list_of_chromosomes=create_random_routes(POP_SIZE, CITY_DICT) #Create random starting routes given data\n",
        "\n",
        "#Create evaluation variables\n",
        "avg_distance_list=[] #Create blank list avg_distance_list\n",
        "opt_distance_list=[] #Create blank list opt_distance_list\n",
        "epoch_optimal=evaluate(list_of_chromosomes[0],tsp_matrix) #Set initial optimum distance value as first chromosome of initial generation\n",
        "epochs=list(range(1,NUMBER_EPOCHS+1)) #Create list of sequential numbers for each epoch\n",
        "\n",
        "for k in range(1,NUMBER_EPOCHS+1): #Loop through each epoch\n",
        "  list_of_chromosomes=process(list_of_chromosomes, tsp_matrix, MUTATION_RATE) #Process list_of_chromosomes\n",
        "  #Apply selection of mates, replication with random crossover point, and mutation \n",
        "  optimal_distance, average_distance, percent_optimal=ga_performance(list_of_chromosomes, tsp_matrix)\n",
        "  #Find measures of performance\n",
        "  if optimal_distance < epoch_optimal: #If there is a new found optimal distance...\n",
        "    epoch_optimal=optimal_distance\n",
        "  avg_distance_list.append(average_distance) #Add average distance to average_distance list\n",
        "  opt_distance_list.append(percent_optimal) #Add percent optimal to opt_distance_list\n",
        "\n",
        "#Create double y axis plot showing 'Average Route Distance' and 'Percent Optimal Chromosomes'\n",
        "fig,ax=plt.subplots()\n",
        "ax.plot(epochs, avg_distance_list, color='red')\n",
        "ax.set_xlabel('Epochs', fontsize=16)\n",
        "ax.set_ylabel('Average Route Distance', color='red', fontsize=12)\n",
        "ax2=ax.twinx()\n",
        "ax2.plot(epochs, opt_distance_list, color=\"blue\")\n",
        "ax2.set_ylabel(\"Percent Optimal Chromosomes\", color=\"blue\", fontsize=12)\n",
        "plt.show()\n",
        "\n",
        "optimal_distance, average_distance,percent_optimal=ga_performance(list_of_chromosomes, tsp_matrix)\n",
        "#Find measures of performance for final generation\n",
        "\n",
        "print('At completion, the algorithm found an optimal distance of', optimal_distance)\n",
        "if optimal_distance == epoch_optimal: #If no faster route was found previously...\n",
        "  print('This value is the most optimal distance value the algorithm found as it executed.')\n",
        "else:\n",
        "  print('This value is less fit than the most optimal distance value the algorithm found,', epoch_optimal)\n",
        "print('At completion, the algorithm found an average distance of', average_distance, 'among routes')\n",
        "print('At completion,', percent_optimal, 'percent route gave an optimal distance of', optimal_distance)\n"
      ],
      "execution_count": null,
      "outputs": [
        {
          "output_type": "display_data",
          "data": {
            "image/png": "[encoded data removed]",
            "text/plain": [
              "<Figure size 432x288 with 2 Axes>"
            ]
          },
          "metadata": {
            "needs_background": "light"
          }
        },
        {
          "output_type": "stream",
          "name": "stdout",
          "text": [
            "At completion, the algorithm found an optimal distance of 18.4\n",
            "This value is the most optimal distance value the algorithm found as it executed.\n",
            "At completion, the algorithm found an average distance of 18.9 among routes\n",
            "At completion, 37.5 percent route gave an optimal distance of 18.4\n"
          ]
        }
      ]
    },
    {
      "cell_type": "code",
      "source": [
        "def ga_performance10(list_of_chromosomes,matrix):\n",
        "  '''Calculate performance of genetic algorithm given list_of_chromosomes and distance matrix with 5% cushion\n",
        "\n",
        "  Args:\n",
        "    list_of_chromosomes(list): List of list of chromosomes to process\n",
        "    matrix(np.array): Distance matrix of destinations\n",
        "  Returns:\n",
        "    optimal_distance(float): Lowest (best) distance among all chromosomes\n",
        "    average_distance(float): Average distance among all chromosomes\n",
        "    percent_optimal(float): Percentage of chromosomes with optimal distance\n",
        "  '''\n",
        "  optimal=list_of_chromosomes[0] #Set optimal chromosome as first chromosome\n",
        "  eval_list=[] #Create blank list eval_list\n",
        "  for i in range(POP_SIZE): #Loop through population \n",
        "    if evaluate(list_of_chromosomes[i], matrix) < evaluate(optimal, matrix): #If distance of chromosome is better...\n",
        "      optimal=list_of_chromosomes[i] #Set new optimal\n",
        "    eval_list.append(evaluate(list_of_chromosomes[i],matrix)) #Evaluate distance of each chromosome\n",
        "  counter=0 #Set counter\n",
        "  for j in range(POP_SIZE): #Loop through population \n",
        "    if evaluate(list_of_chromosomes[j],tsp_space_matrix)<=evaluate(optimal,tsp_space_matrix)*1.10: #If distance is optimal with 10% cushion...\n",
        "      counter+=1 #Add to counter\n",
        "  return evaluate(optimal,matrix), round(mean(eval_list),1), round((counter/POP_SIZE*100),1)\n",
        "  #Return optimal distance, average distance, and percentage optimal distance"
      ],
      "metadata": {
        "id": "O-yzesMCtPm7"
      },
      "execution_count": null,
      "outputs": []
    },
    {
      "cell_type": "code",
      "metadata": {
        "colab": {
          "base_uri": "https://localhost:8080/"
        },
        "id": "1Bn6Wm1K9nSJ",
        "outputId": "244191c2-ab4d-4e6e-b0b3-93452ee7d84c"
      },
      "source": [
        "#INTENT: Define my data and set-up constants\n",
        "\n",
        "#Earth 0, Tattooine 1, Hoth 2, Coruscant 3, Naboo 4, Omicron Perseii VIII 5, Asgard 6, Laconia 7, Alpha Centauri 8, Vulcan 9\n",
        "PLANET_DICT={0: 'Earth', 1: 'Tattooine', 2: 'Hoth', 3: 'Coruscant', 4: 'Naboo', 5: 'Omicron Perseii VIII',\n",
        "           6: 'Asgard', 7: 'Laconia', 8: 'Alpha Centauri', 9: 'Vulcan'} #Set up dictionary representing destinations\n",
        "\n",
        "#Set constants\n",
        "POP_SIZE=64 #Set pop size\n",
        "RANDOM_STATE=90 #Set random state for reproducibility\n",
        "MUTATION_RATE=0.005 #Set mutation rate\n",
        "NUMBER_EPOCHS=2000 #Define number of epochs\n",
        "\n",
        "random.seed(RANDOM_STATE) #Set seed as RANDOM_STATE\n",
        "\n",
        "distance_list=[] #Create blank list distance_list\n",
        "for _ in range(len(PLANET_DICT)): #Loop through PLANET_DICT\n",
        "    distance_list.append((10*random.random(), 10*random.random())) #Add random x,y coordinates\n",
        "space_matrix = distance.cdist(distance_list, distance_list, 'euclidean') #Calculate distance between each destination\n",
        "tsp_space_matrix = np.asarray(space_matrix) #Represent space_matrix as np.array\n",
        "\n",
        "#Print space matrix\n",
        "print(tsp_space_matrix)"
      ],
      "execution_count": null,
      "outputs": [
        {
          "output_type": "stream",
          "name": "stdout",
          "text": [
            "[[0.         6.71745068 5.04242355 8.33308546 6.37884794 0.7156898\n",
            "  5.30398554 9.81986001 7.01402417 6.06664424]\n",
            " [6.71745068 0.         2.32637332 3.67018413 3.58332656 6.41473385\n",
            "  5.49829421 3.66333235 2.83990997 4.78657182]\n",
            " [5.04242355 2.32637332 0.         5.64081549 2.04444192 4.57665084\n",
            "  3.28494339 5.98759208 2.13113264 2.83582005]\n",
            " [8.33308546 3.67018413 5.64081549 0.         7.23439537 8.33415028\n",
            "  8.92479509 2.36497023 6.49915124 8.37233827]\n",
            " [6.37884794 3.58332656 2.04444192 7.23439537 0.         5.77401226\n",
            "  2.39779712 7.01100962 1.11720589 1.33563105]\n",
            " [0.7156898  6.41473385 4.57665084 8.33415028 5.77401226 0.\n",
            "  4.59920568 9.67112649 6.46872186 5.39304549]\n",
            " [5.30398554 5.49829421 3.28494339 8.92479509 2.39779712 4.59920568\n",
            "  0.         9.12406657 3.51062336 1.19113134]\n",
            " [9.81986001 3.66333235 5.98759208 2.36497023 7.01100962 9.67112649\n",
            "  9.12406657 0.         6.0307388  8.30723991]\n",
            " [7.01402417 2.83990997 2.13113264 6.49915124 1.11720589 6.46872186\n",
            "  3.51062336 6.0307388  0.         2.44126189]\n",
            " [6.06664424 4.78657182 2.83582005 8.37233827 1.33563105 5.39304549\n",
            "  1.19113134 8.30723991 2.44126189 0.        ]]\n"
          ]
        }
      ]
    },
    {
      "cell_type": "code",
      "metadata": {
        "colab": {
          "base_uri": "https://localhost:8080/",
          "height": 361
        },
        "id": "Q6d9sd6XZllt",
        "outputId": "69083f41-5abd-4afe-d21d-7811cc90c6f9"
      },
      "source": [
        "#INTENT: Execute genetic algorithm on my data\n",
        "\n",
        "#Set random state\n",
        "random.seed(RANDOM_STATE)\n",
        "\n",
        "#Create chromosomes\n",
        "list_of_chromosomes=[] #Create blank list list_of_chromosomes\n",
        "list_of_chromosomes=create_random_routes(POP_SIZE, PLANET_DICT) #Create random starting routes given data\n",
        "\n",
        "#Create evaluation variables\n",
        "avg_distance_list=[] #Create blank list avg_distance_list\n",
        "opt_distance_list=[] #Create blank list opt_distance_list\n",
        "epoch_optimal=evaluate(list_of_chromosomes[0],tsp_space_matrix) #Set initial optimum distance value as first chromosome of initial generation\n",
        "epochs=list(range(1,NUMBER_EPOCHS+1)) #Create list of sequential numbers for each epoch\n",
        "\n",
        "for k in range(1,NUMBER_EPOCHS+1): #Loop through each epoch\n",
        "  list_of_chromosomes=process(list_of_chromosomes, tsp_space_matrix, MUTATION_RATE) #Process list_of_chromosomes\n",
        "  #Apply selection of mates, replication with random crossover point, and mutation \n",
        "  optimal_distance, average_distance, percent_optimal=ga_performance10(list_of_chromosomes, tsp_space_matrix)\n",
        "  #Find measures of performance\n",
        "  if optimal_distance < epoch_optimal: #If there is a new found optimal distance...\n",
        "    epoch_optimal=optimal_distance\n",
        "  avg_distance_list.append(average_distance) #Add average distance to average_distance list\n",
        "  opt_distance_list.append(percent_optimal) #Add percent optimal to opt_distance_list\n",
        "\n",
        "#Create double y axis plot showing 'Average Route Distance' and 'Percent Optimal Chromosomes'\n",
        "fig,ax=plt.subplots()\n",
        "ax.plot(epochs, avg_distance_list, color='red')\n",
        "ax.set_xlabel('Epochs', fontsize=16)\n",
        "ax.set_ylabel('Average Route Distance', color='red', fontsize=12)\n",
        "ax2=ax.twinx()\n",
        "ax2.plot(epochs, opt_distance_list, color=\"blue\")\n",
        "ax2.set_ylabel(\"Percent Optimal Chromosomes\", color=\"blue\", fontsize=12)\n",
        "plt.show()\n",
        "\n",
        "optimal_distance, average_distance,percent_optimal=ga_performance10(list_of_chromosomes, tsp_space_matrix)\n",
        "#Find measures of performance for final generation\n",
        "\n",
        "print('At completion, the algorithm found an optimal distance of', optimal_distance)\n",
        "if optimal_distance == epoch_optimal: #If no faster route was found previously...\n",
        "  print('This value is the most optimal distance value the algorithm found as it executed.')\n",
        "else:\n",
        "  print('This value is less fit than the most optimal distance value the algorithm found,', epoch_optimal)\n",
        "print('At completion, the algorithm found an average distance of', average_distance, 'among routes')\n",
        "print('At completion,', percent_optimal, 'percent routes gave an optimal distance within 10% of', optimal_distance)"
      ],
      "execution_count": null,
      "outputs": [
        {
          "output_type": "display_data",
          "data": {
            "image/png": "[encoded data removed]",
            "text/plain": [
              "<Figure size 432x288 with 2 Axes>"
            ]
          },
          "metadata": {
            "needs_background": "light"
          }
        },
        {
          "output_type": "stream",
          "name": "stdout",
          "text": [
            "At completion, the algorithm found an optimal distance of 32.5\n",
            "This value is less fit than the most optimal distance value the algorithm found, 27.8\n",
            "At completion, the algorithm found an average distance of 47.1 among routes\n",
            "At completion, 9.4 percent routes gave an optimal distance within 10% of 32.5\n"
          ]
        }
      ]
    },
    {
      "cell_type": "markdown",
      "source": [
        "##Section 8 Traveling Salesman Problem Genetic Algorithm Implementation By Eric Stoltz"
      ],
      "metadata": {
        "id": "-lFS2vZndbYQ"
      }
    },
    {
      "cell_type": "code",
      "source": [
        "#INTENT: Define my data and run TSP GA implementation by Eric Stoltz\n",
        "\n",
        "#Earth 0, Tattooine 1, Hoth 2, Coruscant 3, Naboo 4, Omicron Perseii VIII 5, Asgard 6, Laconia 7, Alpha Centauri 8, Vulcan 9\n",
        "PLANET_DICT={0: 'Earth', 1: 'Tattooine', 2: 'Hoth', 3: 'Coruscant', 4: 'Naboo', 5: 'Omicron Perseii VIII',\n",
        "           6: 'Asgard', 7: 'Laconia', 8: 'Alpha Centauri', 9: 'Vulcan'} #Set up dictionary representing destinations\n",
        "\n",
        "#Set constants\n",
        "POP_SIZE=64 #Set pop size\n",
        "RANDOM_STATE=90 #Set random state for reproducibility\n",
        "MUTATION_RATE=0.005 #Set mutation rate\n",
        "NUMBER_EPOCHS=2000 #Define number of epochs\n",
        "\n",
        "random.seed(RANDOM_STATE) #Set seed as RANDOM_STATE\n",
        "\n",
        "distance_list=[] #Create blank list distance_list\n",
        "for _ in range(len(PLANET_DICT)): #Loop through PLANET_DICT\n",
        "    distance_list.append(City(10*random.random(), 10*random.random())) #Add random x,y coordinates\n",
        "\n",
        "\n",
        "###Eric Stoltz implementation\n",
        "#https://towardsdatascience.com/evolution-of-a-salesman-a-complete-genetic-algorithm-tutorial-for-python-6fe5d2b3ca35\n",
        "#https://github.com/ezstoltz/genetic-algorithm/blob/master/genetic_algorithm_TSP.ipynb\n",
        "\n",
        "\n",
        "##Create necessary classes and functions\n",
        "\n",
        "#Create class to handle \"cities\"\n",
        "\n",
        "class City:\n",
        "    def __init__(self, x, y):\n",
        "        self.x = x\n",
        "        self.y = y\n",
        "    \n",
        "    def distance(self, city):\n",
        "        xDis = abs(self.x - city.x)\n",
        "        yDis = abs(self.y - city.y)\n",
        "        distance = np.sqrt((xDis ** 2) + (yDis ** 2))\n",
        "        return distance\n",
        "    \n",
        "    def __repr__(self):\n",
        "        return \"(\" + str(self.x) + \",\" + str(self.y) + \")\"\n",
        "\n",
        "#Create a fitness function\n",
        "\n",
        "class Fitness:\n",
        "    def __init__(self, route):\n",
        "        self.route = route\n",
        "        self.distance = 0\n",
        "        self.fitness= 0.0\n",
        "    \n",
        "    def routeDistance(self):\n",
        "        if self.distance ==0:\n",
        "            pathDistance = 0\n",
        "            for i in range(0, len(self.route)):\n",
        "                fromCity = self.route[i]\n",
        "                toCity = None\n",
        "                if i + 1 < len(self.route):\n",
        "                    toCity = self.route[i + 1]\n",
        "                else:\n",
        "                    toCity = self.route[0]\n",
        "                pathDistance += fromCity.distance(toCity)\n",
        "            self.distance = pathDistance\n",
        "        return self.distance\n",
        "    \n",
        "    def routeFitness(self):\n",
        "        if self.fitness == 0:\n",
        "            self.fitness = 1 / float(self.routeDistance())\n",
        "        return self.fitness\n",
        "\n",
        "##Create our initial population\n",
        "\n",
        "#Route generator\n",
        "\n",
        "def createRoute(cityList):\n",
        "    route = random.sample(cityList, len(cityList))\n",
        "    return route\n",
        "\n",
        "#Create first \"population\" (list of routes)\n",
        "\n",
        "def initialPopulation(popSize, cityList):\n",
        "    population = []\n",
        "\n",
        "    for i in range(0, popSize):\n",
        "        population.append(createRoute(cityList))\n",
        "    return population\n",
        "\n",
        "##Create the genetic algorithm\n",
        "\n",
        "#Rank individuals\n",
        "\n",
        "def rankRoutes(population):\n",
        "    fitnessResults = {}\n",
        "    for i in range(0,len(population)):\n",
        "        fitnessResults[i] = Fitness(population[i]).routeFitness()\n",
        "    return sorted(fitnessResults.items(), key = operator.itemgetter(1), reverse = True)\n",
        "\n",
        "#Create a selection function that will be used to make the list of parent routes\n",
        "\n",
        "def selection(popRanked, eliteSize):\n",
        "    selectionResults = []\n",
        "    df = pd.DataFrame(np.array(popRanked), columns=[\"Index\",\"Fitness\"])\n",
        "    df['cum_sum'] = df.Fitness.cumsum()\n",
        "    df['cum_perc'] = 100*df.cum_sum/df.Fitness.sum()\n",
        "    \n",
        "    for i in range(0, eliteSize):\n",
        "        selectionResults.append(popRanked[i][0])\n",
        "    for i in range(0, len(popRanked) - eliteSize):\n",
        "        pick = 100*random.random()\n",
        "        for i in range(0, len(popRanked)):\n",
        "            if pick <= df.iat[i,3]:\n",
        "                selectionResults.append(popRanked[i][0])\n",
        "                break\n",
        "    return selectionResults\n",
        "\n",
        "#Create mating pool\n",
        "\n",
        "def matingPool(population, selectionResults):\n",
        "    matingpool = []\n",
        "    for i in range(0, len(selectionResults)):\n",
        "        index = selectionResults[i]\n",
        "        matingpool.append(population[index])\n",
        "    return matingpool\n",
        "\n",
        "#Create a crossover function for two parents to create one child\n",
        "\n",
        "def breed(parent1, parent2):\n",
        "    child = []\n",
        "    childP1 = []\n",
        "    childP2 = []\n",
        "    \n",
        "    geneA = int(random.random() * len(parent1))\n",
        "    geneB = int(random.random() * len(parent1))\n",
        "    \n",
        "    startGene = min(geneA, geneB)\n",
        "    endGene = max(geneA, geneB)\n",
        "\n",
        "    for i in range(startGene, endGene):\n",
        "        childP1.append(parent1[i])\n",
        "        \n",
        "    childP2 = [item for item in parent2 if item not in childP1]\n",
        "\n",
        "    child = childP1 + childP2\n",
        "    return child\n",
        "\n",
        "#Create function to run crossover over full mating pool\n",
        "\n",
        "def breedPopulation(matingpool, eliteSize):\n",
        "    children = []\n",
        "    length = len(matingpool) - eliteSize\n",
        "    pool = random.sample(matingpool, len(matingpool))\n",
        "\n",
        "    for i in range(0,eliteSize):\n",
        "        children.append(matingpool[i])\n",
        "    \n",
        "    for i in range(0, length):\n",
        "        child = breed(pool[i], pool[len(matingpool)-i-1])\n",
        "        children.append(child)\n",
        "    return children\n",
        "\n",
        "#Create function to mutate a single route\n",
        "\n",
        "def mutate(individual, mutationRate):\n",
        "    for swapped in range(len(individual)):\n",
        "        if(random.random() < mutationRate):\n",
        "            swapWith = int(random.random() * len(individual))\n",
        "            \n",
        "            city1 = individual[swapped]\n",
        "            city2 = individual[swapWith]\n",
        "            \n",
        "            individual[swapped] = city2\n",
        "            individual[swapWith] = city1\n",
        "    return individual\n",
        "\n",
        "#Create function to run mutation over entire population\n",
        "\n",
        "def mutatePopulation(population, mutationRate):\n",
        "    mutatedPop = []\n",
        "    \n",
        "    for ind in range(0, len(population)):\n",
        "        mutatedInd = mutate(population[ind], mutationRate)\n",
        "        mutatedPop.append(mutatedInd)\n",
        "    return mutatedPop\n",
        "\n",
        "#Put all steps together to create the next generation\n",
        "\n",
        "def nextGeneration(currentGen, eliteSize, mutationRate):\n",
        "    popRanked = rankRoutes(currentGen)\n",
        "    selectionResults = selection(popRanked, eliteSize)\n",
        "    matingpool = matingPool(currentGen, selectionResults)\n",
        "    children = breedPopulation(matingpool, eliteSize)\n",
        "    nextGeneration = mutatePopulation(children, mutationRate)\n",
        "    return nextGeneration\n",
        "\n",
        "#Final step: create the genetic algorithm\n",
        "\n",
        "def geneticAlgorithm(population, popSize, eliteSize, mutationRate, generations):\n",
        "    pop = initialPopulation(popSize, population)\n",
        "    print(\"Initial distance: \" + str(1 / rankRoutes(pop)[0][1]))\n",
        "    \n",
        "    for i in range(0, generations):\n",
        "        pop = nextGeneration(pop, eliteSize, mutationRate)\n",
        "    \n",
        "    print(\"Final distance: \" + str(1 / rankRoutes(pop)[0][1]))\n",
        "    bestRouteIndex = rankRoutes(pop)[0][0]\n",
        "    bestRoute = pop[bestRouteIndex]\n",
        "    return bestRoute\n",
        "\n",
        "##Plot the progress\n",
        "\n",
        "#Updated slightly (and comment where I made changes) to plot the evaluation the same way as above\n",
        "def geneticAlgorithmPlot(population, popSize, eliteSize, mutationRate, generations):\n",
        "    pop = initialPopulation(popSize, population) #Establish population\n",
        "    avg_distance_list=[] #Create blank list avg_distance_list\n",
        "    opt_distance_list=[] #Create blank list opt_distance_list\n",
        "    epoch_optimal=(1/rankRoutes(pop)[0][1]) #Set initial optimum distance value as first chromosome of initial generation\n",
        "    epochs=list(range(1,NUMBER_EPOCHS+1)) #Create list of sequential numbers for each epoch   \n",
        "    progress=[] #Create blank list progress\n",
        "    \n",
        "    for i in range(0, generations): #Loop through each generation\n",
        "        pop = nextGeneration(pop, eliteSize, mutationRate) #Create new population for next generation\n",
        "        prog_list=rankRoutes(pop) #List of routes ranked by optimal distance\n",
        "        progress.append(1/prog_list[0][1]) #Add best distance value to progress\n",
        "        flat_list=[item for sublist in prog_list for item in sublist][1::2] #Create flat list of prog_list\n",
        "        counter=0 #Set counter\n",
        "        for j in range(popSize): #Loop through population \n",
        "          if 1/flat_list[j]<=1/prog_list[0][1]*1.10: #If distance is optimal with 10% cushion...\n",
        "            counter+=1 #Add to counter\n",
        "        \n",
        "        #Find measures of performance\n",
        "        if 1/prog_list[0][1] < epoch_optimal: #If there is a new found optimal distance...\n",
        "          epoch_optimal=1/prog_list[0][1]\n",
        "        avg_distance_list.append(1/list(map(mean, zip(*prog_list)))[1]) #Add average distance to average_distance list\n",
        "        opt_distance_list.append(round((counter/popSize*100),1)) #Add percent optimal to opt_distance_list\n",
        "\n",
        "    #Create double y axis plot showing 'Average Route Distance' and 'Percent Optimal Chromosomes'\n",
        "    fig,ax=plt.subplots()\n",
        "    ax.plot(epochs, avg_distance_list, color='red')\n",
        "    ax.set_xlabel('Epochs', fontsize=16)\n",
        "    ax.set_ylabel('Average Route Distance', color='red', fontsize=12)\n",
        "    ax2=ax.twinx()\n",
        "    ax2.plot(epochs, opt_distance_list, color=\"blue\")\n",
        "    ax2.set_ylabel(\"Percent Optimal Chromosomes\", color=\"blue\", fontsize=12)\n",
        "    plt.show()\n",
        "\n",
        "    percent_optimal=round(opt_distance_list[-1],1) #Set percent_optimal for last generation\n",
        "    average_distance=round(avg_distance_list[-1],1) #Set average_distance for last generation\n",
        "    optimal_distance=round(progress[-1],1) #Set optimal_distance for last generation\n",
        "\n",
        "    print('At completion, the algorithm found an optimal distance of', optimal_distance)\n",
        "    if abs(optimal_distance-epoch_optimal)>0.01: #If no faster route was found previously...\n",
        "      print('This value is the most optimal distance value the algorithm found as it executed.')\n",
        "    else:\n",
        "      print('This value is less fit than the most optimal distance value the algorithm found,', round(epoch_optimal,1))\n",
        "    print('At completion, the algorithm found an average distance of', average_distance, 'among routes')\n",
        "    print('At completion,', percent_optimal, 'percent routes gave an optimal distance within 10% of', optimal_distance)\n",
        "\n",
        "#Run algorithm\n",
        "geneticAlgorithmPlot(population=distance_list, popSize=POP_SIZE, eliteSize=POP_SIZE//5, mutationRate=MUTATION_RATE, generations=NUMBER_EPOCHS)"
      ],
      "metadata": {
        "colab": {
          "base_uri": "https://localhost:8080/",
          "height": 357
        },
        "id": "DdufCME2NIxc",
        "outputId": "495a06e7-1485-4926-ed2a-7fd54faab647"
      },
      "execution_count": null,
      "outputs": [
        {
          "output_type": "display_data",
          "data": {
            "image/png": "[encoded data removed]",
            "text/plain": [
              "<Figure size 432x288 with 2 Axes>"
            ]
          },
          "metadata": {
            "needs_background": "light"
          }
        },
        {
          "output_type": "stream",
          "name": "stdout",
          "text": [
            "At completion, the algorithm found an optimal distance of 27.8\n",
            "This value is the most optimal distance value the algorithm found as it executed.\n",
            "At completion, the algorithm found an average distance of 34.7 among routes\n",
            "At completion, 31.2 percent routes gave an optimal distance within 10% of 27.8\n"
          ]
        }
      ]
    },
    {
      "cell_type": "markdown",
      "source": [
        "##Appendix E"
      ],
      "metadata": {
        "id": "dnSLIXd50RlE"
      }
    },
    {
      "cell_type": "code",
      "source": [
        "#INTENT: Execute genetic algorithm on my data (Appendix E)\n",
        "\n",
        "#Set random state\n",
        "random.seed(RANDOM_STATE)\n",
        "\n",
        "#Create chromosomes\n",
        "list_of_chromosomes=[] #Create blank list list_of_chromosomes\n",
        "list_of_chromosomes=create_random_routes(POP_SIZE, PLANET_DICT) #Create random starting routes given data\n",
        "\n",
        "#Create evaluation variables\n",
        "avg_distance_list=[] #Create blank list avg_distance_list\n",
        "opt_distance_list=[] #Create blank list opt_distance_list\n",
        "epoch_optimal=evaluate(list_of_chromosomes[0],tsp_space_matrix) #Set initial optimum distance value as first chromosome of initial generation\n",
        "epochs=list(range(1,NUMBER_EPOCHS+1)) #Create list of sequential numbers for each epoch\n",
        "\n",
        "for k in range(1,NUMBER_EPOCHS+1): #Loop through each epoch\n",
        "  list_of_chromosomes=process(list_of_chromosomes, tsp_space_matrix, MUTATION_RATE) #Process list_of_chromosomes\n",
        "  #Apply selection of mates, replication with random crossover point, and mutation \n",
        "  optimal_distance, average_distance, percent_optimal=ga_performance(list_of_chromosomes, tsp_space_matrix)\n",
        "  #Find measures of performance\n",
        "  if optimal_distance < epoch_optimal: #If there is a new found optimal distance...\n",
        "    epoch_optimal=optimal_distance\n",
        "  avg_distance_list.append(average_distance) #Add average distance to average_distance list\n",
        "  opt_distance_list.append(percent_optimal) #Add percent optimal to opt_distance_list\n",
        "\n",
        "#Create double y axis plot showing 'Average Route Distance' and 'Percent Optimal Chromosomes'\n",
        "fig,ax=plt.subplots()\n",
        "ax.plot(epochs, avg_distance_list, color='red')\n",
        "ax.set_xlabel('Epochs', fontsize=16)\n",
        "ax.set_ylabel('Average Route Distance', color='red', fontsize=12)\n",
        "ax2=ax.twinx()\n",
        "ax2.plot(epochs, opt_distance_list, color=\"blue\")\n",
        "ax2.set_ylabel(\"Percent Optimal Chromosomes\", color=\"blue\", fontsize=12)\n",
        "plt.show()\n",
        "\n",
        "optimal_distance, average_distance,percent_optimal=ga_performance(list_of_chromosomes, tsp_space_matrix)\n",
        "#Find measures of performance for final generation\n",
        "\n",
        "print('At completion, the algorithm found an optimal distance of', optimal_distance)\n",
        "if optimal_distance == epoch_optimal: #If no faster route was found previously...\n",
        "  print('This value is the most optimal distance value the algorithm found as it executed.')\n",
        "else:\n",
        "  print('This value is less fit than the most optimal distance value the algorithm found,', epoch_optimal)\n",
        "print('At completion, the algorithm found an average distance of', average_distance, 'among routes')\n",
        "print('At completion,', percent_optimal, 'percent route gave an optimal distance of', optimal_distance)"
      ],
      "metadata": {
        "colab": {
          "base_uri": "https://localhost:8080/",
          "height": 361
        },
        "id": "91s33J4G0Udv",
        "outputId": "c6183796-d85d-4443-952b-4455044892e1"
      },
      "execution_count": null,
      "outputs": [
        {
          "output_type": "display_data",
          "data": {
            "image/png": "[encoded data removed]",
            "text/plain": [
              "<Figure size 432x288 with 2 Axes>"
            ]
          },
          "metadata": {
            "needs_background": "light"
          }
        },
        {
          "output_type": "stream",
          "name": "stdout",
          "text": [
            "At completion, the algorithm found an optimal distance of 32.5\n",
            "This value is less fit than the most optimal distance value the algorithm found, 27.8\n",
            "At completion, the algorithm found an average distance of 47.1 among routes\n",
            "At completion, 1.6 percent route gave an optimal distance of 32.5\n"
          ]
        }
      ]
    },
    {
      "cell_type": "markdown",
      "source": [
        "##Appendix G"
      ],
      "metadata": {
        "id": "CAiFUPw7N811"
      }
    },
    {
      "cell_type": "code",
      "source": [
        "#INTENT: Define my data and run TSP GA implementation by Eric Stoltz (Appendix G)\n",
        "\n",
        "#Earth 0, Tattooine 1, Hoth 2, Coruscant 3, Naboo 4, Omicron Perseii VIII 5, Asgard 6, Laconia 7, Alpha Centauri 8, Vulcan 9\n",
        "PLANET_DICT={0: 'Earth', 1: 'Tattooine', 2: 'Hoth', 3: 'Coruscant', 4: 'Naboo', 5: 'Omicron Perseii VIII',\n",
        "           6: 'Asgard', 7: 'Laconia', 8: 'Alpha Centauri', 9: 'Vulcan'} #Set up dictionary representing destinations\n",
        "\n",
        "#Set constants\n",
        "POP_SIZE=64 #Set pop size\n",
        "RANDOM_STATE=90 #Set random state for reproducibility\n",
        "MUTATION_RATE=0.005 #Set mutation rate\n",
        "NUMBER_EPOCHS=100 #Define number of epochs\n",
        "\n",
        "random.seed(RANDOM_STATE) #Set seed as RANDOM_STATE\n",
        "\n",
        "distance_list=[] #Create blank list distance_list\n",
        "for _ in range(len(PLANET_DICT)): #Loop through PLANET_DICT\n",
        "    distance_list.append(City(10*random.random(), 10*random.random())) #Add random x,y coordinates\n",
        "\n",
        "#Updated Genetic Algorithm Plot function\n",
        "def geneticAlgorithmPlot(population, popSize, eliteSize, mutationRate, generations):\n",
        "    pop = initialPopulation(popSize, population) #Establish population\n",
        "    avg_distance_list=[] #Create blank list avg_distance_list\n",
        "    opt_distance_list=[] #Create blank list opt_distance_list\n",
        "    epoch_optimal=(1/rankRoutes(pop)[0][1]) #Set initial optimum distance value as first chromosome of initial generation\n",
        "    epochs=list(range(1,NUMBER_EPOCHS+1)) #Create list of sequential numbers for each epoch   \n",
        "    progress=[] #Create blank list progress\n",
        "    \n",
        "    for i in range(0, generations): #Loop through each generation\n",
        "        pop = nextGeneration(pop, eliteSize, mutationRate) #Create new population for next generation\n",
        "        prog_list=rankRoutes(pop) #List of routes ranked by optimal distance\n",
        "        progress.append(1/prog_list[0][1]) #Add best distance value to progress\n",
        "        flat_list=[item for sublist in prog_list for item in sublist][1::2] #Create flat list of prog_list\n",
        "        counter=0 #Set counter\n",
        "        for j in range(popSize): #Loop through population \n",
        "          if 1/flat_list[j]<=1/prog_list[0][1]: #If distance is optimal...\n",
        "            counter+=1 #Add to counter\n",
        "        \n",
        "        #Find measures of performance\n",
        "        if 1/prog_list[0][1] < epoch_optimal: #If there is a new found optimal distance...\n",
        "          epoch_optimal=1/prog_list[0][1]\n",
        "        avg_distance_list.append(1/list(map(mean, zip(*prog_list)))[1]) #Add average distance to average_distance list\n",
        "        opt_distance_list.append(round((counter/popSize*100),1)) #Add percent optimal to opt_distance_list\n",
        "\n",
        "    #Create double y axis plot showing 'Average Route Distance' and 'Percent Optimal Chromosomes'\n",
        "    fig,ax=plt.subplots()\n",
        "    ax.plot(epochs, avg_distance_list, color='red')\n",
        "    ax.set_xlabel('Epochs', fontsize=16)\n",
        "    ax.set_ylabel('Average Route Distance', color='red', fontsize=12)\n",
        "    ax2=ax.twinx()\n",
        "    ax2.plot(epochs, opt_distance_list, color=\"blue\")\n",
        "    ax2.set_ylabel(\"Percent Optimal Chromosomes\", color=\"blue\", fontsize=12)\n",
        "    plt.show()\n",
        "\n",
        "    percent_optimal=round(opt_distance_list[-1],1) #Set percent_optimal for last generation\n",
        "    average_distance=round(avg_distance_list[-1],1) #Set average_distance for last generation\n",
        "    optimal_distance=round(progress[-1],1) #Set optimal_distance for last generation\n",
        "\n",
        "    print('At completion, the algorithm found an optimal distance of', optimal_distance)\n",
        "    if abs(optimal_distance-epoch_optimal)>0.01: #If no faster route was found previously...\n",
        "      print('This value is the most optimal distance value the algorithm found as it executed.')\n",
        "    else:\n",
        "      print('This value is less fit than the most optimal distance value the algorithm found,', round(epoch_optimal,1))\n",
        "    print('At completion, the algorithm found an average distance of', average_distance, 'among routes')\n",
        "    print('At completion,', percent_optimal, 'percent route gave an optimal distance of', optimal_distance)\n",
        "\n",
        "#Run algorithm\n",
        "geneticAlgorithmPlot(population=distance_list, popSize=POP_SIZE, eliteSize=POP_SIZE//5, mutationRate=MUTATION_RATE, generations=NUMBER_EPOCHS)"
      ],
      "metadata": {
        "colab": {
          "base_uri": "https://localhost:8080/",
          "height": 357
        },
        "id": "RHePZ6rYN8du",
        "outputId": "63fe61aa-52d8-48f2-8985-c0b04db0cab2"
      },
      "execution_count": null,
      "outputs": [
        {
          "output_type": "display_data",
          "data": {
            "image/png": "[encoded data removed]",
            "text/plain": [
              "<Figure size 432x288 with 2 Axes>"
            ]
          },
          "metadata": {
            "needs_background": "light"
          }
        },
        {
          "output_type": "stream",
          "name": "stdout",
          "text": [
            "At completion, the algorithm found an optimal distance of 27.8\n",
            "This value is the most optimal distance value the algorithm found as it executed.\n",
            "At completion, the algorithm found an average distance of 34.6 among routes\n",
            "At completion, 25.0 percent route gave an optimal distance of 27.8\n"
          ]
        }
      ]
    }
  ]
}